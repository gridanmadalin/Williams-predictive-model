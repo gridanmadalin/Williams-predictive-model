{
 "cells": [
  {
   "cell_type": "code",
   "execution_count": 16,
   "id": "2e5cc640",
   "metadata": {},
   "outputs": [],
   "source": [
    "import pandas as pd\n",
    "import numpy as np\n",
    "import xgboost as xgb"
   ]
  },
  {
   "cell_type": "code",
   "execution_count": 31,
   "id": "1433a2b0",
   "metadata": {},
   "outputs": [],
   "source": [
    "# Load datasets\n",
    "circuits = pd.read_csv('../data/circuits.csv')\n",
    "constructor_standings = pd.read_csv('../data/constructor_standings.csv')\n",
    "constructors = pd.read_csv('../data/constructors.csv')\n",
    "driver_standings = pd.read_csv('../data/driver_standings.csv')\n",
    "drivers = pd.read_csv('../data/drivers.csv')\n",
    "lap_times = pd.read_csv('../data/lap_times.csv')\n",
    "pit_stops = pd.read_csv('../data/pit_stops.csv')\n",
    "qualifying = pd.read_csv('../data/qualifying.csv')\n",
    "races = pd.read_csv('../data/races.csv')\n",
    "results = pd.read_csv('../data/results.csv')\n",
    "sprint_results = pd.read_csv('../data/sprint_results.csv')\n",
    "status = pd.read_csv('../data/status.csv')"
   ]
  },
  {
   "cell_type": "code",
   "execution_count": 75,
   "id": "c2bbb0d0",
   "metadata": {},
   "outputs": [
    {
     "name": "stdout",
     "output_type": "stream",
     "text": [
      "Final table saved as 'Williams_driver_race_data.csv'\n"
     ]
    },
    {
     "name": "stderr",
     "output_type": "stream",
     "text": [
      "/var/folders/v_/w4dsmhhd5g97lg3hlpkrhnxw0000gn/T/ipykernel_6171/879885756.py:29: SettingWithCopyWarning: \n",
      "A value is trying to be set on a copy of a slice from a DataFrame.\n",
      "Try using .loc[row_indexer,col_indexer] = value instead\n",
      "\n",
      "See the caveats in the documentation: https://pandas.pydata.org/pandas-docs/stable/user_guide/indexing.html#returning-a-view-versus-a-copy\n",
      "  final['driver_name'] = final['forename'] + ' ' + final['surname']\n"
     ]
    }
   ],
   "source": [
    "# Filter only races where driverId 832 or 848 participated\n",
    "filtered_results = results[results['driverId'].isin([832, 848])]\n",
    "\n",
    "# Merge with races to get race details\n",
    "merged = filtered_results.merge(races.rename(columns={'name': 'race_name'}), on='raceId', how='left')\n",
    "\n",
    "# Merge with drivers\n",
    "merged = merged.merge(drivers[['driverId', 'forename', 'surname']], on='driverId', how='left')\n",
    "\n",
    "# Merge with constructors\n",
    "merged = merged.merge(constructors[['constructorId', 'name']], on='constructorId', how='left')\n",
    "merged.rename(columns={'name': 'constructor_name'}, inplace=True)\n",
    "\n",
    "# Merge with circuits\n",
    "merged = merged.merge(circuits[['circuitId', 'name']], on='circuitId', how='left')\n",
    "merged.rename(columns={'name': 'circuit_name'}, inplace=True)\n",
    "\n",
    "# Merge with status\n",
    "merged = merged.merge(status, on='statusId', how='left')\n",
    "\n",
    "\n",
    "# Now select relevant columns safely\n",
    "final = merged[[\n",
    "    'year', 'round', 'raceId', 'race_name', 'circuit_name', 'driverId' , 'forename', 'surname',\n",
    "    'constructorId', 'constructor_name', 'grid', 'position', 'positionOrder', 'milliseconds', 'points', 'status'\n",
    "]]\n",
    "\n",
    "# Combine driver names\n",
    "final['driver_name'] = final['forename'] + ' ' + final['surname']\n",
    "\n",
    "# Rearranged final columns\n",
    "final = final[[\n",
    "    'year', 'round', 'raceId', 'race_name', 'circuit_name', 'driverId', 'driver_name',\n",
    "    'constructorId', 'constructor_name', 'grid', 'position', 'positionOrder', 'milliseconds', 'points', 'status'\n",
    "]]\n",
    "\n",
    "# Save to CSV\n",
    "final.to_csv('Williams_driver_race_data.csv', index=False)\n",
    "print(\"Final table saved as 'Williams_driver_race_data.csv'\")\n"
   ]
  },
  {
   "cell_type": "code",
   "execution_count": 91,
   "id": "111d44a0",
   "metadata": {},
   "outputs": [
    {
     "name": "stdout",
     "output_type": "stream",
     "text": [
      "   year  raceId  driverId  constructorId  grid position milliseconds\n",
      "0  2015     926       832              5     7        9          NaN\n",
      "1  2015     927       832              5    15        8          NaN\n",
      "2  2015     928       832              5    14       13          NaN\n",
      "3  2015     929       832              5     9      NaN          NaN\n",
      "4  2015     930       832              5     5        9          NaN\n"
     ]
    }
   ],
   "source": [
    "# Load your dataset\n",
    "X = pd.read_csv('Williams_driver_race_data.csv')\n",
    "# Target variable\n",
    "y = X['positionOrder']\n",
    "X = X.replace(r'\\\\N', np.nan, regex=True)\n",
    "# Feature engineering (drop target + any non-numeric/categorical features that aren't helpful)\n",
    "X = X.drop(columns=['round', 'race_name', 'circuit_name', 'driver_name', 'constructor_name', 'positionOrder','points', 'status'])\n",
    "print(X.head())"
   ]
  },
  {
   "cell_type": "code",
   "execution_count": 92,
   "id": "3baf3e49",
   "metadata": {},
   "outputs": [
    {
     "name": "stderr",
     "output_type": "stream",
     "text": [
      "/var/folders/v_/w4dsmhhd5g97lg3hlpkrhnxw0000gn/T/ipykernel_6171/3997024727.py:2: FutureWarning: errors='ignore' is deprecated and will raise in a future version. Use to_numeric without passing `errors` and catch exceptions explicitly instead\n",
      "  X = X.apply(pd.to_numeric, errors='ignore')\n"
     ]
    }
   ],
   "source": [
    "# make all columns numeric\n",
    "X = X.apply(pd.to_numeric, errors='ignore')"
   ]
  },
  {
   "cell_type": "code",
   "execution_count": 93,
   "id": "bfa0c436",
   "metadata": {},
   "outputs": [],
   "source": [
    "# save X to a csv file\n",
    "X.to_csv('../notebooks/X.csv', index=False)\n",
    "y.to_csv('../notebooks/y.csv', index=False)"
   ]
  },
  {
   "cell_type": "code",
   "execution_count": 94,
   "id": "938b762d",
   "metadata": {},
   "outputs": [
    {
     "data": {
      "text/plain": [
       "0     9\n",
       "1     8\n",
       "2    13\n",
       "3    19\n",
       "4     9\n",
       "Name: positionOrder, dtype: int64"
      ]
     },
     "execution_count": 94,
     "metadata": {},
     "output_type": "execute_result"
    }
   ],
   "source": [
    "y.head()"
   ]
  },
  {
   "cell_type": "code",
   "execution_count": 95,
   "id": "b1bc4134",
   "metadata": {},
   "outputs": [],
   "source": [
    "from sklearn.model_selection import train_test_split\n",
    "\n",
    "X_train, X_test, y_train, y_test = train_test_split(X, y, test_size=0.2, random_state=42)"
   ]
  },
  {
   "cell_type": "code",
   "execution_count": 96,
   "id": "19820e78",
   "metadata": {},
   "outputs": [],
   "source": [
    "model = xgb.XGBRegressor(n_estimators=100, learning_rate=0.1, max_depth=3, random_state=42)"
   ]
  },
  {
   "cell_type": "code",
   "execution_count": 97,
   "id": "3a649dc9",
   "metadata": {},
   "outputs": [
    {
     "name": "stdout",
     "output_type": "stream",
     "text": [
      "MAE:  0.4964909553527832\n",
      "MSE:  1.0530308485031128\n"
     ]
    }
   ],
   "source": [
    "model.fit(X_train, y_train)\n",
    "y_pred = model.predict(X_test)\n",
    "\n",
    "from sklearn.metrics import mean_squared_error, mean_absolute_error, r2_score\n",
    "mae = mean_absolute_error(y_test, y_pred)\n",
    "mse = mean_squared_error(y_test, y_pred)\n",
    "print(\"MAE: \", mae)\n",
    "print(\"MSE: \", mse)"
   ]
  },
  {
   "cell_type": "code",
   "execution_count": 98,
   "id": "ec973e18",
   "metadata": {},
   "outputs": [
    {
     "data": {
      "image/png": "[encoded data removed]",
      "text/plain": [
       "<Figure size 640x480 with 1 Axes>"
      ]
     },
     "metadata": {},
     "output_type": "display_data"
    }
   ],
   "source": [
    "# Make a plot with the predicted values and the actual values\n",
    "import matplotlib.pyplot as plt\n",
    "\n",
    "plt.scatter(y_test, y_pred)\n",
    "plt.xlabel('Actual Values')\n",
    "plt.ylabel('Predicted Values')\n",
    "plt.title('Actual vs Predicted Values')\n",
    "plt.plot([y_test.min(), y_test.max()], [y_test.min(), y_test.max()], 'k--', lw=2)\n",
    "plt.show()\n"
   ]
  },
  {
   "cell_type": "code",
   "execution_count": 99,
   "id": "71d92f02",
   "metadata": {},
   "outputs": [
    {
     "data": {
      "image/png": "[encoded data removed]",
      "text/plain": [
       "<Figure size 640x480 with 1 Axes>"
      ]
     },
     "metadata": {},
     "output_type": "display_data"
    }
   ],
   "source": [
    "# plot the distribution of actual values and predicted values\n",
    "plt.hist(y_test, bins=50, alpha=0.5, label='Actual Values')\n",
    "plt.hist(y_pred, bins=50, alpha=0.5, label='Predicted Values')\n",
    "plt.xlabel('Values')\n",
    "plt.ylabel('Frequency')\n",
    "plt.title('Distribution of Actual and Predicted Values')\n",
    "plt.legend()\n",
    "plt.show()"
   ]
  },
  {
   "cell_type": "code",
   "execution_count": 100,
   "id": "66d4c4b0",
   "metadata": {},
   "outputs": [
    {
     "name": "stdout",
     "output_type": "stream",
     "text": [
      "Accuracy:  0.7538461538461538\n"
     ]
    }
   ],
   "source": [
    "from sklearn.preprocessing import LabelEncoder\n",
    "\n",
    "# Encode the target variable\n",
    "label_encoder = LabelEncoder()\n",
    "y_train_encoded = label_encoder.fit_transform(y_train)\n",
    "y_test_encoded = label_encoder.transform(y_test)\n",
    "\n",
    "# Train the classifier\n",
    "classifier_model = xgb.XGBClassifier(n_estimators=100, learning_rate=0.1, max_depth=3, random_state=42)\n",
    "classifier_model.fit(X_train, y_train_encoded)\n",
    "y_pred_encoded = classifier_model.predict(X_test)\n",
    "\n",
    "# Decode the predictions back to the original labels\n",
    "y_pred = label_encoder.inverse_transform(y_pred_encoded)\n",
    "\n",
    "from sklearn.metrics import accuracy_score\n",
    "accuracy = accuracy_score(y_test, y_pred)\n",
    "\n",
    "print(\"Accuracy: \", accuracy)"
   ]
  }
 ],
 "metadata": {
  "kernelspec": {
   "display_name": "Python 3",
   "language": "python",
   "name": "python3"
  },
  "language_info": {
   "codemirror_mode": {
    "name": "ipython",
    "version": 3
   },
   "file_extension": ".py",
   "mimetype": "text/x-python",
   "name": "python",
   "nbconvert_exporter": "python",
   "pygments_lexer": "ipython3",
   "version": "3.11.5"
  }
 },
 "nbformat": 4,
 "nbformat_minor": 5
}
